{
 "cells": [
  {
   "cell_type": "code",
   "execution_count": 1,
   "id": "a334c87f",
   "metadata": {},
   "outputs": [],
   "source": [
    "import pandas as pd"
   ]
  },
  {
   "cell_type": "code",
   "execution_count": 2,
   "id": "4a7bcca8",
   "metadata": {},
   "outputs": [],
   "source": [
    "data = pd.read_csv('acronyms.csv')"
   ]
  },
  {
   "cell_type": "code",
   "execution_count": 3,
   "id": "45d6d6ec",
   "metadata": {},
   "outputs": [
    {
     "data": {
      "text/html": [
       "<div>\n",
       "<style scoped>\n",
       "    .dataframe tbody tr th:only-of-type {\n",
       "        vertical-align: middle;\n",
       "    }\n",
       "\n",
       "    .dataframe tbody tr th {\n",
       "        vertical-align: top;\n",
       "    }\n",
       "\n",
       "    .dataframe thead th {\n",
       "        text-align: right;\n",
       "    }\n",
       "</style>\n",
       "<table border=\"1\" class=\"dataframe\">\n",
       "  <thead>\n",
       "    <tr style=\"text-align: right;\">\n",
       "      <th></th>\n",
       "      <th>acronym</th>\n",
       "      <th>defination</th>\n",
       "    </tr>\n",
       "  </thead>\n",
       "  <tbody>\n",
       "    <tr>\n",
       "      <th>0</th>\n",
       "      <td>AFSA</td>\n",
       "      <td>Armed Forces Security [SIGINT] Agency[USA]</td>\n",
       "    </tr>\n",
       "    <tr>\n",
       "      <th>1</th>\n",
       "      <td>AKEL</td>\n",
       "      <td>Cyprus Communist Party</td>\n",
       "    </tr>\n",
       "    <tr>\n",
       "      <th>2</th>\n",
       "      <td>Amtorg</td>\n",
       "      <td>American-Soviet Trading Corporation, New York</td>\n",
       "    </tr>\n",
       "    <tr>\n",
       "      <th>3</th>\n",
       "      <td>ASA</td>\n",
       "      <td>Army Security [SIGINT] Agency [USA]</td>\n",
       "    </tr>\n",
       "    <tr>\n",
       "      <th>4</th>\n",
       "      <td>AVH</td>\n",
       "      <td>Hungarian security and intelligence agency</td>\n",
       "    </tr>\n",
       "    <tr>\n",
       "      <th>5</th>\n",
       "      <td>AVO</td>\n",
       "      <td>predecessor of AVH</td>\n",
       "    </tr>\n",
       "    <tr>\n",
       "      <th>6</th>\n",
       "      <td>BfV</td>\n",
       "      <td>FRG security service</td>\n",
       "    </tr>\n",
       "    <tr>\n",
       "      <th>7</th>\n",
       "      <td>BND</td>\n",
       "      <td>FRG foreign intelligence agency</td>\n",
       "    </tr>\n",
       "    <tr>\n",
       "      <th>8</th>\n",
       "      <td>CDU</td>\n",
       "      <td>Christian Democratic Union [FRG]</td>\n",
       "    </tr>\n",
       "    <tr>\n",
       "      <th>9</th>\n",
       "      <td>Cheka</td>\n",
       "      <td>All-Russian Extraordinary Commission for Comba...</td>\n",
       "    </tr>\n",
       "    <tr>\n",
       "      <th>10</th>\n",
       "      <td>CIA</td>\n",
       "      <td>Central Intelligence Agency [USA]</td>\n",
       "    </tr>\n",
       "    <tr>\n",
       "      <th>11</th>\n",
       "      <td>COCOM</td>\n",
       "      <td>Coordinating Committee for East-West Trade</td>\n",
       "    </tr>\n",
       "    <tr>\n",
       "      <th>12</th>\n",
       "      <td>Comecon</td>\n",
       "      <td>[Soviet Bloc] Council for Mutual Economic Aid</td>\n",
       "    </tr>\n",
       "  </tbody>\n",
       "</table>\n",
       "</div>"
      ],
      "text/plain": [
       "    acronym                                         defination\n",
       "0      AFSA         Armed Forces Security [SIGINT] Agency[USA]\n",
       "1      AKEL                             Cyprus Communist Party\n",
       "2    Amtorg      American-Soviet Trading Corporation, New York\n",
       "3       ASA                Army Security [SIGINT] Agency [USA]\n",
       "4       AVH         Hungarian security and intelligence agency\n",
       "5       AVO                                 predecessor of AVH\n",
       "6       BfV                               FRG security service\n",
       "7       BND                    FRG foreign intelligence agency\n",
       "8       CDU                   Christian Democratic Union [FRG]\n",
       "9     Cheka  All-Russian Extraordinary Commission for Comba...\n",
       "10      CIA                  Central Intelligence Agency [USA]\n",
       "11    COCOM         Coordinating Committee for East-West Trade\n",
       "12  Comecon      [Soviet Bloc] Council for Mutual Economic Aid"
      ]
     },
     "execution_count": 3,
     "metadata": {},
     "output_type": "execute_result"
    }
   ],
   "source": [
    "data"
   ]
  },
  {
   "cell_type": "code",
   "execution_count": 4,
   "id": "04d2457f",
   "metadata": {},
   "outputs": [
    {
     "data": {
      "text/plain": [
       "0        AFSA\n",
       "1        AKEL\n",
       "2      Amtorg\n",
       "3         ASA\n",
       "4         AVH\n",
       "5         AVO\n",
       "6         BfV\n",
       "7         BND\n",
       "8         CDU\n",
       "9       Cheka\n",
       "10        CIA\n",
       "11      COCOM\n",
       "12    Comecon\n",
       "Name: acronym, dtype: object"
      ]
     },
     "execution_count": 4,
     "metadata": {},
     "output_type": "execute_result"
    }
   ],
   "source": [
    "data.acronym"
   ]
  },
  {
   "cell_type": "code",
   "execution_count": 5,
   "id": "a25b12a0",
   "metadata": {},
   "outputs": [
    {
     "data": {
      "text/plain": [
       "0            Armed Forces Security [SIGINT] Agency[USA]\n",
       "1                                Cyprus Communist Party\n",
       "2         American-Soviet Trading Corporation, New York\n",
       "3                   Army Security [SIGINT] Agency [USA]\n",
       "4            Hungarian security and intelligence agency\n",
       "5                                    predecessor of AVH\n",
       "6                                  FRG security service\n",
       "7                       FRG foreign intelligence agency\n",
       "8                      Christian Democratic Union [FRG]\n",
       "9     All-Russian Extraordinary Commission for Comba...\n",
       "10                    Central Intelligence Agency [USA]\n",
       "11           Coordinating Committee for East-West Trade\n",
       "12        [Soviet Bloc] Council for Mutual Economic Aid\n",
       "Name: defination, dtype: object"
      ]
     },
     "execution_count": 5,
     "metadata": {},
     "output_type": "execute_result"
    }
   ],
   "source": [
    "data.defination"
   ]
  },
  {
   "cell_type": "code",
   "execution_count": 11,
   "id": "354cc79c",
   "metadata": {},
   "outputs": [
    {
     "name": "stdout",
     "output_type": "stream",
     "text": [
      "Coordinating Committee for East-West Trade\n"
     ]
    }
   ],
   "source": [
    "read = pass\n",
    "i = 0\n",
    "run = True\n",
    "while run:\n",
    "    if i <= 12:\n",
    "        if read == data.acronym[i]:\n",
    "            print(data.defination[i])\n",
    "        i += 1\n",
    "    else:\n",
    "        run = False"
   ]
  },
  {
   "cell_type": "code",
   "execution_count": null,
   "id": "8728dc19",
   "metadata": {},
   "outputs": [],
   "source": []
  }
 ],
 "metadata": {
  "kernelspec": {
   "display_name": "Python 3",
   "language": "python",
   "name": "python3"
  },
  "language_info": {
   "codemirror_mode": {
    "name": "ipython",
    "version": 3
   },
   "file_extension": ".py",
   "mimetype": "text/x-python",
   "name": "python",
   "nbconvert_exporter": "python",
   "pygments_lexer": "ipython3",
   "version": "3.6.8"
  }
 },
 "nbformat": 4,
 "nbformat_minor": 5
}
